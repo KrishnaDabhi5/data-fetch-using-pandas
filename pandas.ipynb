{
 "cells": [
  {
   "cell_type": "code",
   "execution_count": 3,
   "id": "fb24cafd",
   "metadata": {},
   "outputs": [
    {
     "name": "stdout",
     "output_type": "stream",
     "text": [
      "   no.      name  gender  os\n",
      "0    1   krishna  female  98\n",
      "1    2   namitha  female  89\n",
      "2    3     komal  female  87\n",
      "3    4    rutvik    male  80\n",
      "4    5    rushik    male  86\n",
      "5    6     arjun    male  90\n",
      "6    7  abhishek    male  89\n",
      "7    8    manali  female  80\n",
      "8    9      isha  female  90\n",
      "9   10     hasti  female  85\n"
     ]
    }
   ],
   "source": [
    "import pandas as pd\n",
    "df = pd.read_csv(\"data2.csv\")\n",
    "print(df)"
   ]
  },
  {
   "cell_type": "code",
   "execution_count": null,
   "id": "137b99a8",
   "metadata": {},
   "outputs": [],
   "source": []
  }
 ],
 "metadata": {
  "kernelspec": {
   "display_name": "Python 3 (ipykernel)",
   "language": "python",
   "name": "python3"
  },
  "language_info": {
   "codemirror_mode": {
    "name": "ipython",
    "version": 3
   },
   "file_extension": ".py",
   "mimetype": "text/x-python",
   "name": "python",
   "nbconvert_exporter": "python",
   "pygments_lexer": "ipython3",
   "version": "3.10.8"
  }
 },
 "nbformat": 4,
 "nbformat_minor": 5
}
